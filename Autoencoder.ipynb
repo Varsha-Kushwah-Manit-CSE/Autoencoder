{
  "nbformat": 4,
  "nbformat_minor": 0,
  "metadata": {
    "colab": {
      "name": "Autoencoder.ipynb",
      "provenance": [],
      "collapsed_sections": [],
      "authorship_tag": "ABX9TyOwZ7XAhZ8PTN8q3cal8Yjc",
      "include_colab_link": true
    },
    "kernelspec": {
      "name": "python3",
      "display_name": "Python 3"
    },
    "language_info": {
      "name": "python"
    }
  },
  "cells": [
    {
      "cell_type": "markdown",
      "metadata": {
        "id": "view-in-github",
        "colab_type": "text"
      },
      "source": [
        "<a href=\"https://colab.research.google.com/github/Varsha-Kushwah-Manit-CSE/Autoencoder/blob/main/Autoencoder.ipynb\" target=\"_parent\"><img src=\"https://colab.research.google.com/assets/colab-badge.svg\" alt=\"Open In Colab\"/></a>"
      ]
    },
    {
      "cell_type": "code",
      "metadata": {
        "id": "nm6UtA8wjcAW"
      },
      "source": [
        "import matplotlib.pyplot as plt\n",
        "import numpy as np\n",
        "import pandas as pd\n",
        "import tensorflow as tf\n",
        "from sklearn.metrics import accuracy_score, precision_score, recall_score\n",
        "from sklearn.model_selection import train_test_split\n",
        "from tensorflow.keras import layers, losses\n",
        "from tensorflow.keras.datasets import fashion_mnist\n",
        "from tensorflow.keras.models import Model"
      ],
      "execution_count": 2,
      "outputs": []
    },
    {
      "cell_type": "code",
      "metadata": {
        "colab": {
          "base_uri": "https://localhost:8080/"
        },
        "id": "xz5eNlXTjm7-",
        "outputId": "81d2ef1f-4b98-4cfa-d9a2-08aea8797c79"
      },
      "source": [
        "(x_train, _), (x_test, _) = fashion_mnist.load_data()\n",
        "\n",
        "x_train = x_train.astype('float32') / 255.\n",
        "x_test = x_test.astype('float32') / 255.\n",
        "\n",
        "print (x_train.shape)\n",
        "print (x_test.shape)"
      ],
      "execution_count": 3,
      "outputs": [
        {
          "output_type": "stream",
          "text": [
            "Downloading data from https://storage.googleapis.com/tensorflow/tf-keras-datasets/train-labels-idx1-ubyte.gz\n",
            "32768/29515 [=================================] - 0s 0us/step\n",
            "Downloading data from https://storage.googleapis.com/tensorflow/tf-keras-datasets/train-images-idx3-ubyte.gz\n",
            "26427392/26421880 [==============================] - 0s 0us/step\n",
            "Downloading data from https://storage.googleapis.com/tensorflow/tf-keras-datasets/t10k-labels-idx1-ubyte.gz\n",
            "8192/5148 [===============================================] - 0s 0us/step\n",
            "Downloading data from https://storage.googleapis.com/tensorflow/tf-keras-datasets/t10k-images-idx3-ubyte.gz\n",
            "4423680/4422102 [==============================] - 0s 0us/step\n",
            "(60000, 28, 28)\n",
            "(10000, 28, 28)\n"
          ],
          "name": "stdout"
        }
      ]
    },
    {
      "cell_type": "code",
      "metadata": {
        "id": "IbRO7HCajveJ"
      },
      "source": [
        "latent_dim = 64 \n",
        "\n",
        "class Autoencoder(Model):\n",
        "  def __init__(self, latent_dim):\n",
        "    super(Autoencoder, self).__init__()\n",
        "    self.latent_dim = latent_dim   \n",
        "    self.encoder = tf.keras.Sequential([\n",
        "      layers.Flatten(),\n",
        "      layers.Dense(latent_dim, activation='relu'),\n",
        "    ])\n",
        "    self.decoder = tf.keras.Sequential([\n",
        "      layers.Dense(784, activation='sigmoid'),\n",
        "      layers.Reshape((28, 28))\n",
        "    ])\n",
        "\n",
        "  def call(self, x):\n",
        "    encoded = self.encoder(x)\n",
        "    decoded = self.decoder(encoded)\n",
        "    return decoded\n",
        "\n",
        "autoencoder = Autoencoder(latent_dim)"
      ],
      "execution_count": 4,
      "outputs": []
    },
    {
      "cell_type": "code",
      "metadata": {
        "id": "sz5t0tv_kPSA"
      },
      "source": [
        "autoencoder.compile(optimizer='adam', loss=losses.MeanSquaredError())"
      ],
      "execution_count": 5,
      "outputs": []
    },
    {
      "cell_type": "code",
      "metadata": {
        "colab": {
          "base_uri": "https://localhost:8080/"
        },
        "id": "niRl0ob7kUQU",
        "outputId": "ef88be6c-4850-46a2-dd56-ba8a31bf6331"
      },
      "source": [
        "autoencoder.fit(x_train, x_train,\n",
        "                epochs=10,\n",
        "                shuffle=True,\n",
        "                validation_data=(x_test, x_test))"
      ],
      "execution_count": 6,
      "outputs": [
        {
          "output_type": "stream",
          "text": [
            "Epoch 1/10\n",
            "1875/1875 [==============================] - 5s 2ms/step - loss: 0.0387 - val_loss: 0.0130\n",
            "Epoch 2/10\n",
            "1875/1875 [==============================] - 4s 2ms/step - loss: 0.0121 - val_loss: 0.0105\n",
            "Epoch 3/10\n",
            "1875/1875 [==============================] - 4s 2ms/step - loss: 0.0102 - val_loss: 0.0096\n",
            "Epoch 4/10\n",
            "1875/1875 [==============================] - 4s 2ms/step - loss: 0.0094 - val_loss: 0.0093\n",
            "Epoch 5/10\n",
            "1875/1875 [==============================] - 4s 2ms/step - loss: 0.0092 - val_loss: 0.0092\n",
            "Epoch 6/10\n",
            "1875/1875 [==============================] - 4s 2ms/step - loss: 0.0090 - val_loss: 0.0090\n",
            "Epoch 7/10\n",
            "1875/1875 [==============================] - 4s 2ms/step - loss: 0.0089 - val_loss: 0.0089\n",
            "Epoch 8/10\n",
            "1875/1875 [==============================] - 4s 2ms/step - loss: 0.0088 - val_loss: 0.0089\n",
            "Epoch 9/10\n",
            "1875/1875 [==============================] - 4s 2ms/step - loss: 0.0087 - val_loss: 0.0089\n",
            "Epoch 10/10\n",
            "1875/1875 [==============================] - 4s 2ms/step - loss: 0.0087 - val_loss: 0.0088\n"
          ],
          "name": "stdout"
        },
        {
          "output_type": "execute_result",
          "data": {
            "text/plain": [
              "<tensorflow.python.keras.callbacks.History at 0x7f5df5fe1ad0>"
            ]
          },
          "metadata": {
            "tags": []
          },
          "execution_count": 6
        }
      ]
    },
    {
      "cell_type": "code",
      "metadata": {
        "colab": {
          "base_uri": "https://localhost:8080/"
        },
        "id": "Yeq-GdSrkdQx",
        "outputId": "f261e2f1-1e76-4db3-9d78-b7485e5b2677"
      },
      "source": [
        "\n",
        "autoencoder.predict(x_test)"
      ],
      "execution_count": 7,
      "outputs": [
        {
          "output_type": "execute_result",
          "data": {
            "text/plain": [
              "array([[[2.97782606e-07, 3.19885061e-07, 1.03980358e-06, ...,\n",
              "         2.52321070e-06, 6.43913154e-07, 3.77238905e-07],\n",
              "        [1.43723935e-06, 6.61312333e-06, 1.26119876e-05, ...,\n",
              "         3.29601765e-03, 1.91378593e-03, 3.61076133e-07],\n",
              "        [1.72150994e-05, 1.00403486e-05, 4.78467018e-06, ...,\n",
              "         1.91657543e-02, 1.54911876e-02, 3.82810831e-04],\n",
              "        ...,\n",
              "        [6.15835190e-04, 6.88010454e-03, 5.23209572e-03, ...,\n",
              "         5.88449836e-03, 1.96591020e-03, 1.73985958e-04],\n",
              "        [7.17676958e-05, 1.09700064e-04, 3.31521034e-04, ...,\n",
              "         2.52699852e-03, 8.25792551e-04, 1.08565422e-04],\n",
              "        [1.57764384e-06, 2.65017570e-05, 8.64009344e-05, ...,\n",
              "         3.20583582e-03, 1.76489353e-03, 2.91922170e-05]],\n",
              "\n",
              "       [[1.77635118e-09, 6.20453466e-09, 2.13427498e-08, ...,\n",
              "         1.73961698e-08, 7.74973152e-09, 1.18162025e-09],\n",
              "        [7.03470970e-09, 6.70999754e-08, 8.91531636e-06, ...,\n",
              "         4.77313995e-04, 1.61766857e-05, 4.71761386e-09],\n",
              "        [1.22675530e-07, 1.22255074e-07, 2.05634369e-05, ...,\n",
              "         1.85033679e-03, 8.15783133e-05, 2.70100418e-06],\n",
              "        ...,\n",
              "        [1.55985355e-04, 3.28123569e-04, 1.33326650e-03, ...,\n",
              "         5.23370504e-03, 2.12967396e-04, 8.36336403e-05],\n",
              "        [7.88097805e-06, 1.35689974e-04, 7.59482384e-04, ...,\n",
              "         7.04360008e-03, 2.59399414e-04, 7.92495193e-05],\n",
              "        [9.60007984e-09, 3.74419074e-06, 5.72234392e-04, ...,\n",
              "         3.27795744e-03, 3.37988138e-04, 1.34131881e-06]],\n",
              "\n",
              "       [[9.51341121e-08, 9.17208709e-09, 9.44548262e-08, ...,\n",
              "         1.86713045e-08, 1.73670944e-08, 2.29287078e-09],\n",
              "        [3.88827353e-08, 1.09507461e-07, 1.08417197e-07, ...,\n",
              "         1.00896716e-06, 6.49232675e-07, 1.03534674e-08],\n",
              "        [3.95703580e-07, 2.87673423e-08, 3.26644525e-08, ...,\n",
              "         1.35665368e-06, 7.45613207e-08, 3.73519811e-07],\n",
              "        ...,\n",
              "        [3.99890450e-06, 1.83960219e-06, 1.08984246e-07, ...,\n",
              "         1.58075224e-08, 1.69879797e-07, 5.78007848e-06],\n",
              "        [5.78812660e-06, 1.16012134e-05, 3.08257455e-07, ...,\n",
              "         1.11331929e-07, 8.42700501e-07, 1.49833068e-05],\n",
              "        [3.37601342e-08, 2.45734395e-06, 3.67737011e-05, ...,\n",
              "         1.57399643e-06, 3.48862204e-06, 6.26460178e-06]],\n",
              "\n",
              "       ...,\n",
              "\n",
              "       [[8.93814013e-06, 9.31680643e-06, 6.95600011e-06, ...,\n",
              "         3.45422995e-05, 1.45480881e-05, 1.32903642e-06],\n",
              "        [2.30801306e-05, 3.37393285e-05, 4.23358360e-05, ...,\n",
              "         2.04801559e-04, 8.25990719e-05, 9.38834819e-06],\n",
              "        [9.43047489e-05, 3.95104071e-05, 8.66537739e-05, ...,\n",
              "         1.90317631e-04, 6.57292985e-05, 1.82121992e-04],\n",
              "        ...,\n",
              "        [1.92314386e-04, 4.15593386e-04, 6.90072775e-04, ...,\n",
              "         1.18759274e-03, 1.61603093e-03, 9.82165337e-04],\n",
              "        [5.12168881e-05, 1.08585511e-04, 3.33994627e-04, ...,\n",
              "         5.41359186e-04, 3.73482704e-04, 4.11927700e-04],\n",
              "        [8.05208947e-06, 8.46550829e-05, 1.83984637e-03, ...,\n",
              "         9.02891159e-04, 8.41170549e-04, 9.12925680e-05]],\n",
              "\n",
              "       [[2.78473578e-07, 1.93463023e-07, 3.85487596e-07, ...,\n",
              "         8.85106260e-07, 1.99803608e-07, 5.85373598e-08],\n",
              "        [8.83213261e-07, 1.05247591e-06, 2.84798602e-07, ...,\n",
              "         2.09062455e-06, 5.29682893e-06, 7.40415018e-08],\n",
              "        [4.50841441e-07, 7.13662729e-08, 9.59514750e-07, ...,\n",
              "         8.65347658e-07, 9.69734174e-07, 9.34158470e-06],\n",
              "        ...,\n",
              "        [3.67306052e-06, 1.13119938e-06, 1.02112347e-06, ...,\n",
              "         4.97021688e-07, 1.98103680e-06, 5.50728464e-06],\n",
              "        [1.65628644e-05, 4.48859646e-06, 7.94618700e-07, ...,\n",
              "         1.98883572e-06, 3.93147820e-06, 2.11682309e-05],\n",
              "        [6.59136617e-07, 3.49701281e-06, 4.75629786e-05, ...,\n",
              "         2.31742859e-04, 1.42276287e-04, 9.93255890e-06]],\n",
              "\n",
              "       [[3.56317719e-06, 4.89687454e-06, 8.42482314e-06, ...,\n",
              "         2.88060655e-05, 1.10247684e-05, 7.40813402e-06],\n",
              "        [1.27847843e-05, 2.74494541e-05, 1.46239996e-04, ...,\n",
              "         1.17114186e-03, 1.46141648e-03, 5.73008947e-06],\n",
              "        [9.29158487e-05, 6.11603173e-05, 2.07006931e-04, ...,\n",
              "         5.68929315e-03, 8.32551718e-03, 8.07464123e-04],\n",
              "        ...,\n",
              "        [8.75115395e-04, 3.08504701e-03, 2.98157334e-03, ...,\n",
              "         9.01710987e-03, 5.97086549e-03, 1.17349625e-03],\n",
              "        [3.92645597e-04, 5.97238541e-04, 9.73910093e-04, ...,\n",
              "         7.09688663e-03, 4.54947352e-03, 1.61761045e-03],\n",
              "        [1.77585171e-05, 2.65240669e-04, 4.65452671e-04, ...,\n",
              "         5.46300411e-03, 4.32908535e-03, 1.65253878e-04]]], dtype=float32)"
            ]
          },
          "metadata": {
            "tags": []
          },
          "execution_count": 7
        }
      ]
    },
    {
      "cell_type": "code",
      "metadata": {
        "id": "xnQVj1hxku8m"
      },
      "source": [
        "encoded_imgs = autoencoder.encoder(x_test).numpy()\n",
        "decoded_imgs = autoencoder.decoder(encoded_imgs).numpy()"
      ],
      "execution_count": 8,
      "outputs": []
    },
    {
      "cell_type": "code",
      "metadata": {
        "colab": {
          "base_uri": "https://localhost:8080/",
          "height": 264
        },
        "id": "ITDSKUULk3tK",
        "outputId": "89f9041f-4ed0-4b32-8c38-c6cb33852257"
      },
      "source": [
        "n = 10\n",
        "plt.figure(figsize=(20, 4))\n",
        "for i in range(n):\n",
        "  # display original\n",
        "  ax = plt.subplot(2, n, i + 1)\n",
        "  plt.imshow(x_test[i])\n",
        "  plt.title(\"original\")\n",
        "  plt.gray()\n",
        "  ax.get_xaxis().set_visible(False)\n",
        "  ax.get_yaxis().set_visible(False)\n",
        "\n",
        "  # display reconstruction\n",
        "  ax = plt.subplot(2, n, i + 1 + n)\n",
        "  plt.imshow(decoded_imgs[i])\n",
        "  plt.title(\"reconstructed\")\n",
        "  plt.gray()\n",
        "  ax.get_xaxis().set_visible(False)\n",
        "  ax.get_yaxis().set_visible(False)\n",
        "plt.show()"
      ],
      "execution_count": 10,
      "outputs": [
        {
          "output_type": "display_data",
          "data": {
            "image/png": "[encoded data removed]",
            "text/plain": [
              "<Figure size 1440x288 with 20 Axes>"
            ]
          },
          "metadata": {
            "tags": [],
            "needs_background": "light"
          }
        }
      ]
    },
    {
      "cell_type": "code",
      "metadata": {
        "colab": {
          "base_uri": "https://localhost:8080/"
        },
        "id": "1RJCCk7-lHP7",
        "outputId": "0242b751-1232-4152-de7b-60b81bc0bd41"
      },
      "source": [
        "x_train.shape"
      ],
      "execution_count": 11,
      "outputs": [
        {
          "output_type": "execute_result",
          "data": {
            "text/plain": [
              "(60000, 28, 28)"
            ]
          },
          "metadata": {
            "tags": []
          },
          "execution_count": 11
        }
      ]
    },
    {
      "cell_type": "code",
      "metadata": {
        "id": "NpbadzwMlLHv"
      },
      "source": [
        "from keras import regularizers\n",
        "\n",
        "encoding_dim = 32\n",
        "class Sparse(Model):\n",
        "  def __init__(self):\n",
        "    super(Sparse, self).__init__()\n",
        "    self.encoder = tf.keras.Sequential([\n",
        "      layers.Input(shape=(28, 28, 1)),\n",
        "      layers.Flatten(),\n",
        "      layers.Dense(encoding_dim, activation='relu', activity_regularizer=regularizers.l1(10e-5)),\n",
        "    ])\n",
        "\n",
        "    self.decoder = tf.keras.Sequential([\n",
        "      layers.Dense(784, activation='sigmoid'),\n",
        "      layers.Reshape((28,28,1))\n",
        "      ])\n",
        "\n",
        "  def call(self, x):\n",
        "    encoded = self.encoder(x)\n",
        "    decoded = self.decoder(encoded)\n",
        "    return decoded\n",
        "autoencoder = Sparse()"
      ],
      "execution_count": 13,
      "outputs": []
    },
    {
      "cell_type": "code",
      "metadata": {
        "id": "0hDVWMc8lVcN"
      },
      "source": [
        "autoencoder.compile(optimizer='adam', loss='binary_crossentropy')"
      ],
      "execution_count": 14,
      "outputs": []
    },
    {
      "cell_type": "code",
      "metadata": {
        "colab": {
          "base_uri": "https://localhost:8080/"
        },
        "id": "QK7cwyi4l7tU",
        "outputId": "a792a19b-cb7d-4877-ed30-a0124aca604a"
      },
      "source": [
        "autoencoder.fit(x_train, x_train,\n",
        "                epochs=20,\n",
        "                batch_size=256,\n",
        "                shuffle=True,\n",
        "                validation_data=(x_test, x_test))"
      ],
      "execution_count": 15,
      "outputs": [
        {
          "output_type": "stream",
          "text": [
            "Epoch 1/20\n",
            "235/235 [==============================] - 3s 11ms/step - loss: 0.5047 - val_loss: 0.3501\n",
            "Epoch 2/20\n",
            "235/235 [==============================] - 3s 11ms/step - loss: 0.3409 - val_loss: 0.3274\n",
            "Epoch 3/20\n",
            "235/235 [==============================] - 3s 11ms/step - loss: 0.3224 - val_loss: 0.3164\n",
            "Epoch 4/20\n",
            "235/235 [==============================] - 3s 11ms/step - loss: 0.3126 - val_loss: 0.3089\n",
            "Epoch 5/20\n",
            "235/235 [==============================] - 3s 11ms/step - loss: 0.3047 - val_loss: 0.3037\n",
            "Epoch 6/20\n",
            "235/235 [==============================] - 2s 11ms/step - loss: 0.3011 - val_loss: 0.3002\n",
            "Epoch 7/20\n",
            "235/235 [==============================] - 2s 11ms/step - loss: 0.2975 - val_loss: 0.2977\n",
            "Epoch 8/20\n",
            "235/235 [==============================] - 3s 11ms/step - loss: 0.2953 - val_loss: 0.2958\n",
            "Epoch 9/20\n",
            "235/235 [==============================] - 3s 11ms/step - loss: 0.2931 - val_loss: 0.2947\n",
            "Epoch 10/20\n",
            "235/235 [==============================] - 2s 11ms/step - loss: 0.2932 - val_loss: 0.2939\n",
            "Epoch 11/20\n",
            "235/235 [==============================] - 3s 11ms/step - loss: 0.2913 - val_loss: 0.2934\n",
            "Epoch 12/20\n",
            "235/235 [==============================] - 3s 11ms/step - loss: 0.2911 - val_loss: 0.2928\n",
            "Epoch 13/20\n",
            "235/235 [==============================] - 2s 10ms/step - loss: 0.2902 - val_loss: 0.2923\n",
            "Epoch 14/20\n",
            "235/235 [==============================] - 3s 11ms/step - loss: 0.2897 - val_loss: 0.2919\n",
            "Epoch 15/20\n",
            "235/235 [==============================] - 2s 11ms/step - loss: 0.2893 - val_loss: 0.2917\n",
            "Epoch 16/20\n",
            "235/235 [==============================] - 3s 11ms/step - loss: 0.2892 - val_loss: 0.2913\n",
            "Epoch 17/20\n",
            "235/235 [==============================] - 2s 11ms/step - loss: 0.2886 - val_loss: 0.2910\n",
            "Epoch 18/20\n",
            "235/235 [==============================] - 2s 11ms/step - loss: 0.2887 - val_loss: 0.2908\n",
            "Epoch 19/20\n",
            "235/235 [==============================] - 2s 10ms/step - loss: 0.2876 - val_loss: 0.2905\n",
            "Epoch 20/20\n",
            "235/235 [==============================] - 2s 10ms/step - loss: 0.2874 - val_loss: 0.2904\n"
          ],
          "name": "stdout"
        },
        {
          "output_type": "execute_result",
          "data": {
            "text/plain": [
              "<tensorflow.python.keras.callbacks.History at 0x7f5df175cb50>"
            ]
          },
          "metadata": {
            "tags": []
          },
          "execution_count": 15
        }
      ]
    },
    {
      "cell_type": "code",
      "metadata": {
        "id": "zBFA-1Ztl744"
      },
      "source": [
        "encoded_imgs = autoencoder.encoder(x_test).numpy()\n",
        "decoded_imgs = autoencoder.decoder(encoded_imgs).numpy()"
      ],
      "execution_count": 17,
      "outputs": []
    },
    {
      "cell_type": "code",
      "metadata": {
        "colab": {
          "base_uri": "https://localhost:8080/",
          "height": 264
        },
        "id": "brsG0dcImQ5H",
        "outputId": "60d4f78d-eaae-4914-9a12-2404abeeb637"
      },
      "source": [
        "n = 10\n",
        "plt.figure(figsize=(20, 4))\n",
        "for i in range(n):\n",
        "\n",
        "    # display original + noise\n",
        "    ax = plt.subplot(2, n, i + 1)\n",
        "    plt.title(\"original + noise\")\n",
        "    plt.imshow(tf.squeeze(x_test[i]))\n",
        "\n",
        "    plt.gray()\n",
        "    ax.get_xaxis().set_visible(False)\n",
        "    ax.get_yaxis().set_visible(False)\n",
        "\n",
        "    # display reconstruction\n",
        "    bx = plt.subplot(2, n, i + n + 1)\n",
        "    plt.title(\"reconstructed\")\n",
        "    plt.imshow(tf.squeeze(decoded_imgs[i]))\n",
        "    plt.gray()\n",
        "    bx.get_xaxis().set_visible(False)\n",
        "    bx.get_yaxis().set_visible(False)\n",
        "plt.show()\n"
      ],
      "execution_count": 18,
      "outputs": [
        {
          "output_type": "display_data",
          "data": {
            "image/png": "[encoded data removed]",
            "text/plain": [
              "<Figure size 1440x288 with 20 Axes>"
            ]
          },
          "metadata": {
            "tags": [],
            "needs_background": "light"
          }
        }
      ]
    },
    {
      "cell_type": "code",
      "metadata": {
        "id": "dSil7WiTmRFM"
      },
      "source": [
        ""
      ],
      "execution_count": null,
      "outputs": []
    }
  ]
}